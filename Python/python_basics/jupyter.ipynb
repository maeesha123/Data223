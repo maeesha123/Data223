{
 "cells": [
  {
   "cell_type": "code",
   "execution_count": null,
   "metadata": {},
   "outputs": [],
   "source": [
    "'c:/Users/Owner/OneDrive/Desktop/Data223/.venv/Scripts/python.exe -m pip install ipykernel -U --force-reinstall'"
   ]
  },
  {
   "cell_type": "code",
   "execution_count": 3,
   "metadata": {},
   "outputs": [
    {
     "name": "stdout",
     "output_type": "stream",
     "text": [
      "<class 'int'>\n",
      "e\n"
     ]
    }
   ],
   "source": [
    "#PYTHON FUNDAMENTALS \n",
    "\n",
    "# Built in data types\n",
    "#Numbers= integers\n",
    "#Floating point numbers= decimals\n",
    "#Strings= text\n",
    "#Boolean= either true or False\n",
    "\n",
    "#examples\n",
    "\n",
    "print(type(5))\n",
    "print(\"hello world\"[1])"
   ]
  },
  {
   "cell_type": "code",
   "execution_count": 5,
   "metadata": {},
   "outputs": [
    {
     "name": "stdout",
     "output_type": "stream",
     "text": [
      "jane doe\n"
     ]
    }
   ],
   "source": [
    "#Concatenation and escape characters\n",
    "first_name =\"jane\"\n",
    "last_name=\"doe\"\n",
    "full_name = first_name + \" \" + last_name\n",
    "print(full_name)"
   ]
  }
 ],
 "metadata": {
  "kernelspec": {
   "display_name": ".venv",
   "language": "python",
   "name": "python3"
  },
  "language_info": {
   "codemirror_mode": {
    "name": "ipython",
    "version": 3
   },
   "file_extension": ".py",
   "mimetype": "text/x-python",
   "name": "python",
   "nbconvert_exporter": "python",
   "pygments_lexer": "ipython3",
   "version": "3.10.0"
  },
  "orig_nbformat": 4
 },
 "nbformat": 4,
 "nbformat_minor": 2
}
